{
 "cells": [
  {
   "cell_type": "code",
   "execution_count": 1,
   "metadata": {},
   "outputs": [],
   "source": [
    "import pandas as pd\n",
    "A = pd.read_csv(\"C:/Users/Gayatri/Downloads/AirPassengers.csv\")"
   ]
  },
  {
   "cell_type": "code",
   "execution_count": 2,
   "metadata": {},
   "outputs": [
    {
     "data": {
      "text/html": [
       "<div>\n",
       "<style scoped>\n",
       "    .dataframe tbody tr th:only-of-type {\n",
       "        vertical-align: middle;\n",
       "    }\n",
       "\n",
       "    .dataframe tbody tr th {\n",
       "        vertical-align: top;\n",
       "    }\n",
       "\n",
       "    .dataframe thead th {\n",
       "        text-align: right;\n",
       "    }\n",
       "</style>\n",
       "<table border=\"1\" class=\"dataframe\">\n",
       "  <thead>\n",
       "    <tr style=\"text-align: right;\">\n",
       "      <th></th>\n",
       "      <th>Month</th>\n",
       "      <th>#Passengers</th>\n",
       "    </tr>\n",
       "  </thead>\n",
       "  <tbody>\n",
       "    <tr>\n",
       "      <th>0</th>\n",
       "      <td>1949-01</td>\n",
       "      <td>112</td>\n",
       "    </tr>\n",
       "    <tr>\n",
       "      <th>1</th>\n",
       "      <td>1949-02</td>\n",
       "      <td>118</td>\n",
       "    </tr>\n",
       "  </tbody>\n",
       "</table>\n",
       "</div>"
      ],
      "text/plain": [
       "     Month  #Passengers\n",
       "0  1949-01          112\n",
       "1  1949-02          118"
      ]
     },
     "execution_count": 2,
     "metadata": {},
     "output_type": "execute_result"
    }
   ],
   "source": [
    "A.head(2)"
   ]
  },
  {
   "cell_type": "code",
   "execution_count": 3,
   "metadata": {},
   "outputs": [
    {
     "name": "stderr",
     "output_type": "stream",
     "text": [
      "<ipython-input-3-45fc302b8a4c>:1: UserWarning: Pandas doesn't allow columns to be created via a new attribute name - see https://pandas.pydata.org/pandas-docs/stable/indexing.html#attribute-access\n",
      "  A.Date = pd.to_datetime(A.Month,format=\"%Y-%m\")\n"
     ]
    }
   ],
   "source": [
    "A.Date = pd.to_datetime(A.Month,format=\"%Y-%m\")"
   ]
  },
  {
   "cell_type": "code",
   "execution_count": 4,
   "metadata": {},
   "outputs": [
    {
     "data": {
      "text/html": [
       "<div>\n",
       "<style scoped>\n",
       "    .dataframe tbody tr th:only-of-type {\n",
       "        vertical-align: middle;\n",
       "    }\n",
       "\n",
       "    .dataframe tbody tr th {\n",
       "        vertical-align: top;\n",
       "    }\n",
       "\n",
       "    .dataframe thead th {\n",
       "        text-align: right;\n",
       "    }\n",
       "</style>\n",
       "<table border=\"1\" class=\"dataframe\">\n",
       "  <thead>\n",
       "    <tr style=\"text-align: right;\">\n",
       "      <th></th>\n",
       "      <th>Month</th>\n",
       "      <th>#Passengers</th>\n",
       "    </tr>\n",
       "  </thead>\n",
       "  <tbody>\n",
       "    <tr>\n",
       "      <th>0</th>\n",
       "      <td>1949-01</td>\n",
       "      <td>112</td>\n",
       "    </tr>\n",
       "    <tr>\n",
       "      <th>1</th>\n",
       "      <td>1949-02</td>\n",
       "      <td>118</td>\n",
       "    </tr>\n",
       "  </tbody>\n",
       "</table>\n",
       "</div>"
      ],
      "text/plain": [
       "     Month  #Passengers\n",
       "0  1949-01          112\n",
       "1  1949-02          118"
      ]
     },
     "execution_count": 4,
     "metadata": {},
     "output_type": "execute_result"
    }
   ],
   "source": [
    "A.head(2)"
   ]
  },
  {
   "cell_type": "code",
   "execution_count": 5,
   "metadata": {},
   "outputs": [],
   "source": [
    "A.index=A.Date"
   ]
  },
  {
   "cell_type": "code",
   "execution_count": 6,
   "metadata": {},
   "outputs": [
    {
     "data": {
      "text/html": [
       "<div>\n",
       "<style scoped>\n",
       "    .dataframe tbody tr th:only-of-type {\n",
       "        vertical-align: middle;\n",
       "    }\n",
       "\n",
       "    .dataframe tbody tr th {\n",
       "        vertical-align: top;\n",
       "    }\n",
       "\n",
       "    .dataframe thead th {\n",
       "        text-align: right;\n",
       "    }\n",
       "</style>\n",
       "<table border=\"1\" class=\"dataframe\">\n",
       "  <thead>\n",
       "    <tr style=\"text-align: right;\">\n",
       "      <th></th>\n",
       "      <th>Month</th>\n",
       "      <th>#Passengers</th>\n",
       "    </tr>\n",
       "    <tr>\n",
       "      <th>Month</th>\n",
       "      <th></th>\n",
       "      <th></th>\n",
       "    </tr>\n",
       "  </thead>\n",
       "  <tbody>\n",
       "    <tr>\n",
       "      <th>1949-01-01</th>\n",
       "      <td>1949-01</td>\n",
       "      <td>112</td>\n",
       "    </tr>\n",
       "    <tr>\n",
       "      <th>1949-02-01</th>\n",
       "      <td>1949-02</td>\n",
       "      <td>118</td>\n",
       "    </tr>\n",
       "  </tbody>\n",
       "</table>\n",
       "</div>"
      ],
      "text/plain": [
       "              Month  #Passengers\n",
       "Month                           \n",
       "1949-01-01  1949-01          112\n",
       "1949-02-01  1949-02          118"
      ]
     },
     "execution_count": 6,
     "metadata": {},
     "output_type": "execute_result"
    }
   ],
   "source": [
    "A.head(2)"
   ]
  },
  {
   "cell_type": "code",
   "execution_count": 7,
   "metadata": {},
   "outputs": [],
   "source": [
    "A = A.drop(labels=[\"Month\"],axis=1)"
   ]
  },
  {
   "cell_type": "code",
   "execution_count": 8,
   "metadata": {},
   "outputs": [
    {
     "data": {
      "text/html": [
       "<div>\n",
       "<style scoped>\n",
       "    .dataframe tbody tr th:only-of-type {\n",
       "        vertical-align: middle;\n",
       "    }\n",
       "\n",
       "    .dataframe tbody tr th {\n",
       "        vertical-align: top;\n",
       "    }\n",
       "\n",
       "    .dataframe thead th {\n",
       "        text-align: right;\n",
       "    }\n",
       "</style>\n",
       "<table border=\"1\" class=\"dataframe\">\n",
       "  <thead>\n",
       "    <tr style=\"text-align: right;\">\n",
       "      <th></th>\n",
       "      <th>#Passengers</th>\n",
       "    </tr>\n",
       "    <tr>\n",
       "      <th>Month</th>\n",
       "      <th></th>\n",
       "    </tr>\n",
       "  </thead>\n",
       "  <tbody>\n",
       "    <tr>\n",
       "      <th>1949-01-01</th>\n",
       "      <td>112</td>\n",
       "    </tr>\n",
       "    <tr>\n",
       "      <th>1949-02-01</th>\n",
       "      <td>118</td>\n",
       "    </tr>\n",
       "  </tbody>\n",
       "</table>\n",
       "</div>"
      ],
      "text/plain": [
       "            #Passengers\n",
       "Month                  \n",
       "1949-01-01          112\n",
       "1949-02-01          118"
      ]
     },
     "execution_count": 8,
     "metadata": {},
     "output_type": "execute_result"
    }
   ],
   "source": [
    "A.head(2)"
   ]
  },
  {
   "cell_type": "code",
   "execution_count": 9,
   "metadata": {},
   "outputs": [
    {
     "data": {
      "text/plain": [
       "<AxesSubplot:xlabel='Month'>"
      ]
     },
     "execution_count": 9,
     "metadata": {},
     "output_type": "execute_result"
    },
    {
     "data": {
      "image/png": "[encoded data removed]",
      "text/plain": [
       "<Figure size 432x288 with 1 Axes>"
      ]
     },
     "metadata": {
      "needs_background": "light"
     },
     "output_type": "display_data"
    }
   ],
   "source": [
    "A.plot()"
   ]
  },
  {
   "cell_type": "code",
   "execution_count": 10,
   "metadata": {
    "collapsed": true
   },
   "outputs": [
    {
     "data": {
      "image/png": "[encoded data removed]",
      "text/plain": [
       "<Figure size 432x288 with 4 Axes>"
      ]
     },
     "metadata": {
      "needs_background": "light"
     },
     "output_type": "display_data"
    }
   ],
   "source": [
    "from statsmodels.tsa.seasonal import seasonal_decompose\n",
    "\n",
    "import matplotlib.pyplot as plt\n",
    "fig = seasonal_decompose(A,model=\"multiplicative\")\n",
    "fig.plot()\n",
    "plt.show()"
   ]
  },
  {
   "cell_type": "code",
   "execution_count": 11,
   "metadata": {},
   "outputs": [
    {
     "data": {
      "text/html": [
       "<div>\n",
       "<style scoped>\n",
       "    .dataframe tbody tr th:only-of-type {\n",
       "        vertical-align: middle;\n",
       "    }\n",
       "\n",
       "    .dataframe tbody tr th {\n",
       "        vertical-align: top;\n",
       "    }\n",
       "\n",
       "    .dataframe thead th {\n",
       "        text-align: right;\n",
       "    }\n",
       "</style>\n",
       "<table border=\"1\" class=\"dataframe\">\n",
       "  <thead>\n",
       "    <tr style=\"text-align: right;\">\n",
       "      <th></th>\n",
       "      <th>#Passengers</th>\n",
       "    </tr>\n",
       "    <tr>\n",
       "      <th>Month</th>\n",
       "      <th></th>\n",
       "    </tr>\n",
       "  </thead>\n",
       "  <tbody>\n",
       "    <tr>\n",
       "      <th>1949-01-01</th>\n",
       "      <td>112</td>\n",
       "    </tr>\n",
       "    <tr>\n",
       "      <th>1949-02-01</th>\n",
       "      <td>118</td>\n",
       "    </tr>\n",
       "    <tr>\n",
       "      <th>1949-03-01</th>\n",
       "      <td>132</td>\n",
       "    </tr>\n",
       "    <tr>\n",
       "      <th>1949-04-01</th>\n",
       "      <td>129</td>\n",
       "    </tr>\n",
       "    <tr>\n",
       "      <th>1949-05-01</th>\n",
       "      <td>121</td>\n",
       "    </tr>\n",
       "    <tr>\n",
       "      <th>...</th>\n",
       "      <td>...</td>\n",
       "    </tr>\n",
       "    <tr>\n",
       "      <th>1960-08-01</th>\n",
       "      <td>606</td>\n",
       "    </tr>\n",
       "    <tr>\n",
       "      <th>1960-09-01</th>\n",
       "      <td>508</td>\n",
       "    </tr>\n",
       "    <tr>\n",
       "      <th>1960-10-01</th>\n",
       "      <td>461</td>\n",
       "    </tr>\n",
       "    <tr>\n",
       "      <th>1960-11-01</th>\n",
       "      <td>390</td>\n",
       "    </tr>\n",
       "    <tr>\n",
       "      <th>1960-12-01</th>\n",
       "      <td>432</td>\n",
       "    </tr>\n",
       "  </tbody>\n",
       "</table>\n",
       "<p>144 rows × 1 columns</p>\n",
       "</div>"
      ],
      "text/plain": [
       "            #Passengers\n",
       "Month                  \n",
       "1949-01-01          112\n",
       "1949-02-01          118\n",
       "1949-03-01          132\n",
       "1949-04-01          129\n",
       "1949-05-01          121\n",
       "...                 ...\n",
       "1960-08-01          606\n",
       "1960-09-01          508\n",
       "1960-10-01          461\n",
       "1960-11-01          390\n",
       "1960-12-01          432\n",
       "\n",
       "[144 rows x 1 columns]"
      ]
     },
     "execution_count": 11,
     "metadata": {},
     "output_type": "execute_result"
    }
   ],
   "source": [
    "A"
   ]
  },
  {
   "cell_type": "code",
   "execution_count": 13,
   "metadata": {},
   "outputs": [
    {
     "data": {
      "text/plain": [
       "array([[-1.40777884],\n",
       "       [-1.35759023],\n",
       "       [-1.24048348],\n",
       "       [-1.26557778],\n",
       "       [-1.33249593],\n",
       "       [-1.21538918],\n",
       "       [-1.10664719],\n",
       "       [-1.10664719],\n",
       "       [-1.20702441],\n",
       "       [-1.34922546],\n",
       "       [-1.47469699],\n",
       "       [-1.35759023],\n",
       "       [-1.38268454],\n",
       "       [-1.29067209],\n",
       "       [-1.16520057],\n",
       "       [-1.21538918],\n",
       "       [-1.29903686],\n",
       "       [-1.09828242],\n",
       "       [-0.9226223 ],\n",
       "       [-0.9226223 ],\n",
       "       [-1.02299951],\n",
       "       [-1.23211871],\n",
       "       [-1.3910493 ],\n",
       "       [-1.17356534],\n",
       "       [-1.1317415 ],\n",
       "       [-1.08991766],\n",
       "       [-0.85570415],\n",
       "       [-0.98117567],\n",
       "       [-0.90589276],\n",
       "       [-0.85570415],\n",
       "       [-0.68004402],\n",
       "       [-0.68004402],\n",
       "       [-0.80551554],\n",
       "       [-0.98954044],\n",
       "       [-1.12337673],\n",
       "       [-0.95608137],\n",
       "       [-0.91425753],\n",
       "       [-0.83897462],\n",
       "       [-0.73023263],\n",
       "       [-0.83060985],\n",
       "       [-0.81388031],\n",
       "       [-0.52111343],\n",
       "       [-0.42073621],\n",
       "       [-0.320359  ],\n",
       "       [-0.59639634],\n",
       "       [-0.74696217],\n",
       "       [-0.90589276],\n",
       "       [-0.72186786],\n",
       "       [-0.70513833],\n",
       "       [-0.70513833],\n",
       "       [-0.37054761],\n",
       "       [-0.37891237],\n",
       "       [-0.42910098],\n",
       "       [-0.31199423],\n",
       "       [-0.1363341 ],\n",
       "       [-0.06941596],\n",
       "       [-0.36218284],\n",
       "       [-0.57966681],\n",
       "       [-0.83897462],\n",
       "       [-0.66331449],\n",
       "       [-0.63822018],\n",
       "       [-0.77205647],\n",
       "       [-0.37891237],\n",
       "       [-0.44583052],\n",
       "       [-0.38727714],\n",
       "       [-0.1363341 ],\n",
       "       [ 0.18152708],\n",
       "       [ 0.10624417],\n",
       "       [-0.17815794],\n",
       "       [-0.42910098],\n",
       "       [-0.64658495],\n",
       "       [-0.42910098],\n",
       "       [-0.320359  ],\n",
       "       [-0.39564191],\n",
       "       [-0.1112398 ],\n",
       "       [-0.09451026],\n",
       "       [-0.08614549],\n",
       "       [ 0.29026907],\n",
       "       [ 0.7001427 ],\n",
       "       [ 0.55794164],\n",
       "       [ 0.26517476],\n",
       "       [-0.05268642],\n",
       "       [-0.36218284],\n",
       "       [-0.01922735],\n",
       "       [ 0.03096126],\n",
       "       [-0.02759212],\n",
       "       [ 0.3069986 ],\n",
       "       [ 0.27353953],\n",
       "       [ 0.31536337],\n",
       "       [ 0.78379038],\n",
       "       [ 1.11001633],\n",
       "       [ 1.04309819],\n",
       "       [ 0.62485979],\n",
       "       [ 0.21498616],\n",
       "       [-0.07778072],\n",
       "       [ 0.21498616],\n",
       "       [ 0.29026907],\n",
       "       [ 0.17316232],\n",
       "       [ 0.63322456],\n",
       "       [ 0.56630641],\n",
       "       [ 0.62485979],\n",
       "       [ 1.18529925],\n",
       "       [ 1.54498427],\n",
       "       [ 1.56171381],\n",
       "       [ 1.03473342],\n",
       "       [ 0.55794164],\n",
       "       [ 0.20662139],\n",
       "       [ 0.4659292 ],\n",
       "       [ 0.49938827],\n",
       "       [ 0.31536337],\n",
       "       [ 0.68341317],\n",
       "       [ 0.56630641],\n",
       "       [ 0.69177793],\n",
       "       [ 1.29404123],\n",
       "       [ 1.76246824],\n",
       "       [ 1.87957499],\n",
       "       [ 1.03473342],\n",
       "       [ 0.65831886],\n",
       "       [ 0.24844523],\n",
       "       [ 0.47429396],\n",
       "       [ 0.66668363],\n",
       "       [ 0.5161178 ],\n",
       "       [ 1.05146296],\n",
       "       [ 0.96781528],\n",
       "       [ 1.16856971],\n",
       "       [ 1.60353765],\n",
       "       [ 2.23926002],\n",
       "       [ 2.33127247],\n",
       "       [ 1.52825474],\n",
       "       [ 1.05982773],\n",
       "       [ 0.68341317],\n",
       "       [ 1.04309819],\n",
       "       [ 1.14347541],\n",
       "       [ 0.92599144],\n",
       "       [ 1.16020494],\n",
       "       [ 1.5115252 ],\n",
       "       [ 1.60353765],\n",
       "       [ 2.13051803],\n",
       "       [ 2.85825285],\n",
       "       [ 2.72441656],\n",
       "       [ 1.9046693 ],\n",
       "       [ 1.5115252 ],\n",
       "       [ 0.91762667],\n",
       "       [ 1.26894693]])"
      ]
     },
     "execution_count": 13,
     "metadata": {},
     "output_type": "execute_result"
    }
   ],
   "source": [
    "from sklearn.preprocessing import StandardScaler\n",
    "ss = StandardScaler()\n",
    "ss.fit_transform(A[['#Passengers']])"
   ]
  },
  {
   "cell_type": "code",
   "execution_count": 14,
   "metadata": {},
   "outputs": [
    {
     "data": {
      "text/plain": [
       "#Passengers    280.298611\n",
       "dtype: float64"
      ]
     },
     "execution_count": 14,
     "metadata": {},
     "output_type": "execute_result"
    }
   ],
   "source": [
    "A[[\"#Passengers\"]].mean()"
   ]
  },
  {
   "cell_type": "code",
   "execution_count": 15,
   "metadata": {},
   "outputs": [],
   "source": [
    "import numpy as np\n",
    "log_pass = np.log(A[[\"#Passengers\"]])\n",
    "rm = log_pass.rolling(window=12).mean()\n",
    "A['diff']=log_pass-rm\n"
   ]
  },
  {
   "cell_type": "code",
   "execution_count": 17,
   "metadata": {},
   "outputs": [],
   "source": [
    "B=  A[A['diff'].isnull()==False]\n"
   ]
  },
  {
   "cell_type": "code",
   "execution_count": 18,
   "metadata": {},
   "outputs": [],
   "source": [
    "B=B.drop(labels=[\"#Passengers\"],axis=1)"
   ]
  },
  {
   "cell_type": "code",
   "execution_count": 19,
   "metadata": {},
   "outputs": [],
   "source": [
    "B.columns=[\"Pass\"]"
   ]
  },
  {
   "cell_type": "code",
   "execution_count": 20,
   "metadata": {},
   "outputs": [
    {
     "data": {
      "text/html": [
       "<div>\n",
       "<style scoped>\n",
       "    .dataframe tbody tr th:only-of-type {\n",
       "        vertical-align: middle;\n",
       "    }\n",
       "\n",
       "    .dataframe tbody tr th {\n",
       "        vertical-align: top;\n",
       "    }\n",
       "\n",
       "    .dataframe thead th {\n",
       "        text-align: right;\n",
       "    }\n",
       "</style>\n",
       "<table border=\"1\" class=\"dataframe\">\n",
       "  <thead>\n",
       "    <tr style=\"text-align: right;\">\n",
       "      <th></th>\n",
       "      <th>Pass</th>\n",
       "    </tr>\n",
       "    <tr>\n",
       "      <th>Month</th>\n",
       "      <th></th>\n",
       "    </tr>\n",
       "  </thead>\n",
       "  <tbody>\n",
       "    <tr>\n",
       "      <th>1949-12-01</th>\n",
       "      <td>-0.065494</td>\n",
       "    </tr>\n",
       "    <tr>\n",
       "      <th>1950-01-01</th>\n",
       "      <td>-0.093449</td>\n",
       "    </tr>\n",
       "  </tbody>\n",
       "</table>\n",
       "</div>"
      ],
      "text/plain": [
       "                Pass\n",
       "Month               \n",
       "1949-12-01 -0.065494\n",
       "1950-01-01 -0.093449"
      ]
     },
     "execution_count": 20,
     "metadata": {},
     "output_type": "execute_result"
    }
   ],
   "source": [
    "B.head(2)"
   ]
  },
  {
   "cell_type": "code",
   "execution_count": 21,
   "metadata": {},
   "outputs": [
    {
     "name": "stdout",
     "output_type": "stream",
     "text": [
      "Stationary\n"
     ]
    }
   ],
   "source": [
    "from statsmodels.tsa.stattools import adfuller\n",
    "x = adfuller(pd.Series(B['Pass']))\n",
    "if(x[1]<0.05):\n",
    "    print(\"Stationary\")\n",
    "else:\n",
    "    print(\"Not Stationary\")"
   ]
  },
  {
   "cell_type": "code",
   "execution_count": 22,
   "metadata": {},
   "outputs": [
    {
     "name": "stdout",
     "output_type": "stream",
     "text": [
      "Not Stationary\n"
     ]
    }
   ],
   "source": [
    "from statsmodels.tsa.stattools import adfuller\n",
    "x = adfuller(pd.Series(A['#Passengers']))\n",
    "if(x[1]<0.05):\n",
    "    print(\"Stationary\")\n",
    "else:\n",
    "    print(\"Not Stationary\")"
   ]
  },
  {
   "cell_type": "code",
   "execution_count": 26,
   "metadata": {},
   "outputs": [
    {
     "name": "stderr",
     "output_type": "stream",
     "text": [
      "C:\\Users\\Gayatri\\anaconda3\\gayu\\lib\\site-packages\\statsmodels\\tsa\\ar_model.py:791: FutureWarning: \n",
      "statsmodels.tsa.AR has been deprecated in favor of statsmodels.tsa.AutoReg and\n",
      "statsmodels.tsa.SARIMAX.\n",
      "\n",
      "AutoReg adds the ability to specify exogenous variables, include time trends,\n",
      "and add seasonal dummies. The AutoReg API differs from AR since the model is\n",
      "treated as immutable, and so the entire specification including the lag\n",
      "length must be specified when creating the model. This change is too\n",
      "substantial to incorporate into the existing AR api. The function\n",
      "ar_select_order performs lag length selection for AutoReg models.\n",
      "\n",
      "AutoReg only estimates parameters using conditional MLE (OLS). Use SARIMAX to\n",
      "estimate ARX and related models using full MLE via the Kalman Filter.\n",
      "\n",
      "To silence this warning and continue using AR until it is removed, use:\n",
      "\n",
      "import warnings\n",
      "warnings.filterwarnings('ignore', 'statsmodels.tsa.ar_model.AR', FutureWarning)\n",
      "\n",
      "  warnings.warn(AR_DEPRECATION_WARN, FutureWarning)\n",
      "C:\\Users\\Gayatri\\anaconda3\\gayu\\lib\\site-packages\\statsmodels\\tsa\\base\\tsa_model.py:524: ValueWarning: No frequency information was provided, so inferred frequency MS will be used.\n",
      "  warnings.warn('No frequency information was'\n",
      "<ipython-input-26-ce4253e5813b>:7: SettingWithCopyWarning: \n",
      "A value is trying to be set on a copy of a slice from a DataFrame.\n",
      "Try using .loc[row_indexer,col_indexer] = value instead\n",
      "\n",
      "See the caveats in the documentation: https://pandas.pydata.org/pandas-docs/stable/user_guide/indexing.html#returning-a-view-versus-a-copy\n",
      "  tsd['Forecasted_from_AR']=pred\n"
     ]
    }
   ],
   "source": [
    "trd = B[B.index.year<=1958]\n",
    "tsd = B[B.index.year>1958]\n",
    "\n",
    "from statsmodels.tsa.ar_model import AR\n",
    "model = AR(trd).fit()\n",
    "pred = model.predict(start=\"1959-01-01\",end=\"1960-12-01\")\n",
    "tsd['Forecasted_from_AR']=pred"
   ]
  },
  {
   "cell_type": "code",
   "execution_count": 27,
   "metadata": {},
   "outputs": [
    {
     "data": {
      "text/html": [
       "<div>\n",
       "<style scoped>\n",
       "    .dataframe tbody tr th:only-of-type {\n",
       "        vertical-align: middle;\n",
       "    }\n",
       "\n",
       "    .dataframe tbody tr th {\n",
       "        vertical-align: top;\n",
       "    }\n",
       "\n",
       "    .dataframe thead th {\n",
       "        text-align: right;\n",
       "    }\n",
       "</style>\n",
       "<table border=\"1\" class=\"dataframe\">\n",
       "  <thead>\n",
       "    <tr style=\"text-align: right;\">\n",
       "      <th></th>\n",
       "      <th>Pass</th>\n",
       "      <th>Forecasted_from_AR</th>\n",
       "    </tr>\n",
       "    <tr>\n",
       "      <th>Month</th>\n",
       "      <th></th>\n",
       "      <th></th>\n",
       "    </tr>\n",
       "  </thead>\n",
       "  <tbody>\n",
       "    <tr>\n",
       "      <th>1959-01-01</th>\n",
       "      <td>-0.049241</td>\n",
       "      <td>-0.063446</td>\n",
       "    </tr>\n",
       "    <tr>\n",
       "      <th>1959-02-01</th>\n",
       "      <td>-0.106598</td>\n",
       "      <td>-0.142865</td>\n",
       "    </tr>\n",
       "    <tr>\n",
       "      <th>1959-03-01</th>\n",
       "      <td>0.055385</td>\n",
       "      <td>-0.054353</td>\n",
       "    </tr>\n",
       "    <tr>\n",
       "      <th>1959-04-01</th>\n",
       "      <td>0.019679</td>\n",
       "      <td>-0.080923</td>\n",
       "    </tr>\n",
       "    <tr>\n",
       "      <th>1959-05-01</th>\n",
       "      <td>0.066365</td>\n",
       "      <td>0.000782</td>\n",
       "    </tr>\n",
       "    <tr>\n",
       "      <th>1959-06-01</th>\n",
       "      <td>0.176286</td>\n",
       "      <td>0.147897</td>\n",
       "    </tr>\n",
       "    <tr>\n",
       "      <th>1959-07-01</th>\n",
       "      <td>0.316430</td>\n",
       "      <td>0.266176</td>\n",
       "    </tr>\n",
       "    <tr>\n",
       "      <th>1959-08-01</th>\n",
       "      <td>0.327838</td>\n",
       "      <td>0.276603</td>\n",
       "    </tr>\n",
       "    <tr>\n",
       "      <th>1959-09-01</th>\n",
       "      <td>0.128057</td>\n",
       "      <td>0.111256</td>\n",
       "    </tr>\n",
       "    <tr>\n",
       "      <th>1959-10-01</th>\n",
       "      <td>-0.011315</td>\n",
       "      <td>-0.022179</td>\n",
       "    </tr>\n",
       "    <tr>\n",
       "      <th>1959-11-01</th>\n",
       "      <td>-0.141406</td>\n",
       "      <td>-0.166359</td>\n",
       "    </tr>\n",
       "    <tr>\n",
       "      <th>1959-12-01</th>\n",
       "      <td>-0.044481</td>\n",
       "      <td>-0.112470</td>\n",
       "    </tr>\n",
       "    <tr>\n",
       "      <th>1960-01-01</th>\n",
       "      <td>-0.027530</td>\n",
       "      <td>-0.075875</td>\n",
       "    </tr>\n",
       "    <tr>\n",
       "      <th>1960-02-01</th>\n",
       "      <td>-0.103067</td>\n",
       "      <td>-0.130261</td>\n",
       "    </tr>\n",
       "    <tr>\n",
       "      <th>1960-03-01</th>\n",
       "      <td>-0.036530</td>\n",
       "      <td>-0.084932</td>\n",
       "    </tr>\n",
       "    <tr>\n",
       "      <th>1960-04-01</th>\n",
       "      <td>0.046332</td>\n",
       "      <td>-0.093862</td>\n",
       "    </tr>\n",
       "    <tr>\n",
       "      <th>1960-05-01</th>\n",
       "      <td>0.060186</td>\n",
       "      <td>-0.000381</td>\n",
       "    </tr>\n",
       "    <tr>\n",
       "      <th>1960-06-01</th>\n",
       "      <td>0.175033</td>\n",
       "      <td>0.140602</td>\n",
       "    </tr>\n",
       "    <tr>\n",
       "      <th>1960-07-01</th>\n",
       "      <td>0.315151</td>\n",
       "      <td>0.255767</td>\n",
       "    </tr>\n",
       "    <tr>\n",
       "      <th>1960-08-01</th>\n",
       "      <td>0.282363</td>\n",
       "      <td>0.263214</td>\n",
       "    </tr>\n",
       "    <tr>\n",
       "      <th>1960-09-01</th>\n",
       "      <td>0.098235</td>\n",
       "      <td>0.133695</td>\n",
       "    </tr>\n",
       "    <tr>\n",
       "      <th>1960-10-01</th>\n",
       "      <td>-0.009230</td>\n",
       "      <td>0.001386</td>\n",
       "    </tr>\n",
       "    <tr>\n",
       "      <th>1960-11-01</th>\n",
       "      <td>-0.182690</td>\n",
       "      <td>-0.135957</td>\n",
       "    </tr>\n",
       "    <tr>\n",
       "      <th>1960-12-01</th>\n",
       "      <td>-0.085789</td>\n",
       "      <td>-0.109957</td>\n",
       "    </tr>\n",
       "  </tbody>\n",
       "</table>\n",
       "</div>"
      ],
      "text/plain": [
       "                Pass  Forecasted_from_AR\n",
       "Month                                   \n",
       "1959-01-01 -0.049241           -0.063446\n",
       "1959-02-01 -0.106598           -0.142865\n",
       "1959-03-01  0.055385           -0.054353\n",
       "1959-04-01  0.019679           -0.080923\n",
       "1959-05-01  0.066365            0.000782\n",
       "1959-06-01  0.176286            0.147897\n",
       "1959-07-01  0.316430            0.266176\n",
       "1959-08-01  0.327838            0.276603\n",
       "1959-09-01  0.128057            0.111256\n",
       "1959-10-01 -0.011315           -0.022179\n",
       "1959-11-01 -0.141406           -0.166359\n",
       "1959-12-01 -0.044481           -0.112470\n",
       "1960-01-01 -0.027530           -0.075875\n",
       "1960-02-01 -0.103067           -0.130261\n",
       "1960-03-01 -0.036530           -0.084932\n",
       "1960-04-01  0.046332           -0.093862\n",
       "1960-05-01  0.060186           -0.000381\n",
       "1960-06-01  0.175033            0.140602\n",
       "1960-07-01  0.315151            0.255767\n",
       "1960-08-01  0.282363            0.263214\n",
       "1960-09-01  0.098235            0.133695\n",
       "1960-10-01 -0.009230            0.001386\n",
       "1960-11-01 -0.182690           -0.135957\n",
       "1960-12-01 -0.085789           -0.109957"
      ]
     },
     "execution_count": 27,
     "metadata": {},
     "output_type": "execute_result"
    }
   ],
   "source": [
    "tsd"
   ]
  },
  {
   "cell_type": "code",
   "execution_count": null,
   "metadata": {},
   "outputs": [],
   "source": []
  }
 ],
 "metadata": {
  "kernelspec": {
   "display_name": "Python 3",
   "language": "python",
   "name": "python3"
  },
  "language_info": {
   "codemirror_mode": {
    "name": "ipython",
    "version": 3
   },
   "file_extension": ".py",
   "mimetype": "text/x-python",
   "name": "python",
   "nbconvert_exporter": "python",
   "pygments_lexer": "ipython3",
   "version": "3.8.5"
  }
 },
 "nbformat": 4,
 "nbformat_minor": 4
}
